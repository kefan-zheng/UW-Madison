{
 "cells": [
  {
   "cell_type": "markdown",
   "metadata": {},
   "source": [
    "# Homework 0: Exercises for Julia Tutorial\n",
    "\n",
    "After you have gone through the tutorial, you should be able to fill in these simple exercises. To submit your reponse, please take the following steps: \n",
    "1. Make sure to run all the cells (such that we can see the output that you create).\n",
    "2. Print a pdf of the notebook (make sure that it is easily readable).\n",
    "3. Upload the pdf to Canvas by February 4."
   ]
  },
  {
   "cell_type": "markdown",
   "metadata": {},
   "source": [
    "### Exercises\n",
    "\n",
    "\n",
    "Get started by reading the following statements about your class work and signing that you understand and agree by typing your name at the bottom of this cell.\n",
    "\n",
    "1. You are encouraged to discuss homework problems with classmates and even work in groups. \n",
    "\n",
    "2. However, **the work you turn in must be your own**. You must not communicate files containing code or answers to homework questions to each other.\n",
    "\n",
    "3. Many homeworks require the use of Julia and JuMP. We'll provide instructions to help you install this programming environment on your own computer, together with tutorials and exercises, but ultimate it is your responsibility to ensure that you have a stable platform on which to develop and run Julia code and jupyter notebooks. \n",
    "\n",
    "4. Submission of all homeworks will be through Canvas. You will usually be required to submit a **pdf printout of your jupyter notebook**, NOT source code. \n",
    "\n",
    "    a. Please submit the answers **in the same order as on the assignment**\n",
    "\n",
    "    b. Please denote the start of each question in your notebook using a large font, for example:\n",
    "    # Question 1a\n",
    "\n",
    "\n",
    "5. You can learn to do optimization modeling only by doing it yourself, not by following along what others are doing!\n",
    "\n",
    "6. **PLAGIARISM AND OTHER TYPES OF ACADEMIC MISCONDUCT IS NOT TOLERATED AND WILL HAVE CONSEQUENCES.** Please read [this information](https://conduct.students.wisc.edu/academic-misconduct/) about UW's definition of academic misconduct.\n",
    "\n"
   ]
  },
  {
   "cell_type": "markdown",
   "metadata": {},
   "source": [
    "#### 1.0\n",
    "\n",
    "PLEASE ACKNOWLEDGE YOUR UNDERSTANDING AND ACCEPTANCE OF THESE RULES BY TYPING YOUR NAME HERE: Kefan Zheng"
   ]
  },
  {
   "cell_type": "markdown",
   "metadata": {},
   "source": [
    "#### 1.1 Finding help\n",
    "\n",
    "Look up docs for the function `convert`."
   ]
  },
  {
   "cell_type": "code",
   "execution_count": 1,
   "metadata": {},
   "outputs": [],
   "source": [
    "# search: convert ConcurrencyViolationError code_native @code_native\n",
    "\n",
    "#   convert(T, x)\n",
    "\n",
    "#   Convert x to a value of type T.\n",
    "\n",
    "#   If T is an Integer type, an InexactError will be raised if x is not representable by T, for example if x is not integer-valued, or is\n",
    "#   outside the range supported by T.\n",
    "\n",
    "#   Examples\n",
    "#   ≡≡≡≡≡≡≡≡\n",
    "\n",
    "#   julia> convert(Int, 3.0)\n",
    "#   3\n",
    "  \n",
    "#   julia> convert(Int, 3.5)\n",
    "#   ERROR: InexactError: Int64(3.5)\n",
    "#   Stacktrace:\n",
    "#   [...]\n",
    "\n",
    "#   If T is a AbstractFloat type, then it will return the closest value to x representable by T.\n",
    "\n",
    "#   julia> x = 1/3\n",
    "#   0.3333333333333333\n",
    "  \n",
    "#   julia> convert(Float32, x)\n",
    "#   0.33333334f0\n",
    "  \n",
    "#   julia> convert(BigFloat, x)\n",
    "#   0.333333333333333314829616256247390992939472198486328125\n",
    "\n",
    "#   If T is a collection type and x a collection, the result of convert(T, x) may alias all or part of x.\n",
    "\n",
    "#   julia> x = Int[1, 2, 3];\n",
    "  \n",
    "#   julia> y = convert(Vector{Int}, x);\n",
    "  \n",
    "#   julia> y === x\n",
    "#   true\n",
    "\n",
    "#   See also: round, trunc, oftype, reinterpret.\n"
   ]
  },
  {
   "cell_type": "markdown",
   "metadata": {},
   "source": [
    "#### 1.2 Assigning variables, checking and converting types\n",
    "Assign `365` to a variable named `days`. "
   ]
  },
  {
   "cell_type": "code",
   "execution_count": 2,
   "metadata": {},
   "outputs": [
    {
     "data": {
      "text/plain": [
       "365"
      ]
     },
     "execution_count": 2,
     "metadata": {},
     "output_type": "execute_result"
    }
   ],
   "source": [
    "days = 365"
   ]
  },
  {
   "cell_type": "markdown",
   "metadata": {},
   "source": [
    "Use the `convert` function to change the variable `days` from an integer to a float, and assign it to a new variable `days_float`. "
   ]
  },
  {
   "cell_type": "code",
   "execution_count": 3,
   "metadata": {},
   "outputs": [
    {
     "data": {
      "text/plain": [
       "365.0"
      ]
     },
     "execution_count": 3,
     "metadata": {},
     "output_type": "execute_result"
    }
   ],
   "source": [
    "days_float = convert(Float64, days)"
   ]
  },
  {
   "cell_type": "markdown",
   "metadata": {},
   "source": [
    "Check whether the types of `days` and `days_float` are the same."
   ]
  },
  {
   "cell_type": "code",
   "execution_count": 4,
   "metadata": {},
   "outputs": [
    {
     "data": {
      "text/plain": [
       "false"
      ]
     },
     "execution_count": 4,
     "metadata": {},
     "output_type": "execute_result"
    }
   ],
   "source": [
    "typeof(days) === typeof(days_float)"
   ]
  },
  {
   "cell_type": "markdown",
   "metadata": {},
   "source": [
    "#### 1.3 Working with arrays and tuples\n",
    "\n",
    "Define the array \n",
    "\n",
    "`square = [1, 2, 3]` \n",
    "\n",
    "and the tuple\n",
    "\n",
    "`round = (4,5,6)`"
   ]
  },
  {
   "cell_type": "code",
   "execution_count": 5,
   "metadata": {},
   "outputs": [
    {
     "data": {
      "text/plain": [
       "(4, 5, 6)"
      ]
     },
     "execution_count": 5,
     "metadata": {},
     "output_type": "execute_result"
    }
   ],
   "source": [
    "my_square = [1, 2, 3]\n",
    "my_round = (4, 5, 6)"
   ]
  },
  {
   "cell_type": "markdown",
   "metadata": {},
   "source": [
    "Access the first element of the array and the tuple, and add them together. "
   ]
  },
  {
   "cell_type": "code",
   "execution_count": 6,
   "metadata": {},
   "outputs": [
    {
     "data": {
      "text/plain": [
       "5"
      ]
     },
     "execution_count": 6,
     "metadata": {},
     "output_type": "execute_result"
    }
   ],
   "source": [
    "my_square[1] + my_round[1]"
   ]
  },
  {
   "cell_type": "markdown",
   "metadata": {},
   "source": [
    "Change the first element of the array to be equal to the first element of the tuple."
   ]
  },
  {
   "cell_type": "code",
   "execution_count": 7,
   "metadata": {},
   "outputs": [
    {
     "data": {
      "text/plain": [
       "4"
      ]
     },
     "execution_count": 7,
     "metadata": {},
     "output_type": "execute_result"
    }
   ],
   "source": [
    "my_square[1] = my_round[1]"
   ]
  },
  {
   "cell_type": "markdown",
   "metadata": {},
   "source": [
    "Try to change the third element of the tuple to be equal to that of the array.\n",
    "\n",
    "Why will this not work?"
   ]
  },
  {
   "cell_type": "code",
   "execution_count": 8,
   "metadata": {},
   "outputs": [
    {
     "ename": "LoadError",
     "evalue": "MethodError: no method matching setindex!(::Tuple{Int64, Int64, Int64}, ::Int64, ::Int64)",
     "output_type": "error",
     "traceback": [
      "MethodError: no method matching setindex!(::Tuple{Int64, Int64, Int64}, ::Int64, ::Int64)",
      "",
      "Stacktrace:",
      " [1] top-level scope",
      "   @ In[8]:1"
     ]
    }
   ],
   "source": [
    "my_round[3] = my_square[3] \n",
    "# This will not work, because tuple is a fixed-length container that can hold any values, but cannot be modified (it is immutable)."
   ]
  },
  {
   "cell_type": "markdown",
   "metadata": {},
   "source": [
    "#### 1.4 Dictionaries\n",
    "\n",
    "Create a dictionary which lists three of your favorite restaurants and their ranking (1, 2 or 3)."
   ]
  },
  {
   "cell_type": "code",
   "execution_count": 9,
   "metadata": {},
   "outputs": [
    {
     "data": {
      "text/plain": [
       "Dict{String, Int64} with 3 entries:\n",
       "  \"Gordon\" => 1\n",
       "  \"Strada\" => 3\n",
       "  \"Subway\" => 2"
      ]
     },
     "execution_count": 9,
     "metadata": {},
     "output_type": "execute_result"
    }
   ],
   "source": [
    "favorite_restaurants = Dict(\"Gordon\" => 1, \"Subway\" => 2, \"Strada\" => 3)"
   ]
  },
  {
   "cell_type": "markdown",
   "metadata": {},
   "source": [
    "#### 1.5 Matrix (two-dimension arrays)\n",
    "Create the following matrix: $$B = \\begin{bmatrix} 1 & 2 & 1 \\\\ 3 & 0 & 1 \\\\ 0 & 2 & 4 \\end{bmatrix}$$"
   ]
  },
  {
   "cell_type": "code",
   "execution_count": 10,
   "metadata": {},
   "outputs": [
    {
     "data": {
      "text/plain": [
       "3×3 Matrix{Int64}:\n",
       " 1  2  1\n",
       " 3  0  1\n",
       " 0  2  4"
      ]
     },
     "execution_count": 10,
     "metadata": {},
     "output_type": "execute_result"
    }
   ],
   "source": [
    "B = [1 2 1; 3 0 1; 0 2 4]"
   ]
  },
  {
   "cell_type": "markdown",
   "metadata": {},
   "source": [
    "Change the first element in the first row of B into 5, and check if it is an even number. (Tip: Use \"a%b == c\", which means the remainder of a/b is c)"
   ]
  },
  {
   "cell_type": "code",
   "execution_count": 11,
   "metadata": {},
   "outputs": [
    {
     "data": {
      "text/plain": [
       "false"
      ]
     },
     "execution_count": 11,
     "metadata": {},
     "output_type": "execute_result"
    }
   ],
   "source": [
    "B[1, 1] = 5\n",
    "B[1, 1]%2 === 0"
   ]
  },
  {
   "cell_type": "markdown",
   "metadata": {},
   "source": [
    "#### 1.6 Some basic math\n",
    "\n",
    "\n",
    "Check if 5 is an even number. (Tip: Use the modulo operation \"a%b == c\", which means the remainder of a/b is c)"
   ]
  },
  {
   "cell_type": "code",
   "execution_count": 12,
   "metadata": {},
   "outputs": [
    {
     "data": {
      "text/plain": [
       "false"
      ]
     },
     "execution_count": 12,
     "metadata": {},
     "output_type": "execute_result"
    }
   ],
   "source": [
    "5 % 2 === 0"
   ]
  },
  {
   "cell_type": "markdown",
   "metadata": {},
   "source": [
    "#### 1.7 For loops"
   ]
  },
  {
   "cell_type": "markdown",
   "metadata": {},
   "source": [
    "Write a for loop to print the integers from 1 to 5."
   ]
  },
  {
   "cell_type": "code",
   "execution_count": 13,
   "metadata": {},
   "outputs": [
    {
     "name": "stdout",
     "output_type": "stream",
     "text": [
      "1\n",
      "2\n",
      "3\n",
      "4\n",
      "5\n"
     ]
    }
   ],
   "source": [
    "for i = 1:5\n",
    "    println(i)\n",
    "end"
   ]
  },
  {
   "cell_type": "markdown",
   "metadata": {},
   "source": [
    "Now write a for loop to go through every element in the above matrix, check if it is odd. If it is, then add 1 to that element. And print your matrix. "
   ]
  },
  {
   "cell_type": "code",
   "execution_count": 14,
   "metadata": {},
   "outputs": [
    {
     "name": "stdout",
     "output_type": "stream",
     "text": [
      "[6 2 2; 4 0 2; 0 2 4]"
     ]
    }
   ],
   "source": [
    "for row in 1:size(B, 1)\n",
    "    for col in 1:size(B, 2)\n",
    "        if B[row, col] % 2 === 1\n",
    "            B[row, col] += 1\n",
    "        end\n",
    "    end\n",
    "end\n",
    "print(B)"
   ]
  },
  {
   "cell_type": "markdown",
   "metadata": {},
   "source": [
    "#### 1.8 Functions\n",
    "Write a function called `my_func` which takes a number as an input, and return an array containing integers from 1 to $n$. And try your function with input 5."
   ]
  },
  {
   "cell_type": "code",
   "execution_count": 15,
   "metadata": {},
   "outputs": [
    {
     "data": {
      "text/plain": [
       "5-element Vector{Int64}:\n",
       " 1\n",
       " 2\n",
       " 3\n",
       " 4\n",
       " 5"
      ]
     },
     "execution_count": 15,
     "metadata": {},
     "output_type": "execute_result"
    }
   ],
   "source": [
    "function my_func(n)\n",
    "    res = [i for i = 1:n]\n",
    "    return res\n",
    "end\n",
    "\n",
    "my_func(5)"
   ]
  },
  {
   "cell_type": "markdown",
   "metadata": {},
   "source": [
    "What happens to the output if you insted use the input 5.5 (which is a non-integer)?"
   ]
  },
  {
   "cell_type": "code",
   "execution_count": 16,
   "metadata": {},
   "outputs": [
    {
     "data": {
      "text/plain": [
       "5-element Vector{Float64}:\n",
       " 1.0\n",
       " 2.0\n",
       " 3.0\n",
       " 4.0\n",
       " 5.0"
      ]
     },
     "execution_count": 16,
     "metadata": {},
     "output_type": "execute_result"
    }
   ],
   "source": [
    "my_func(5.5)\n",
    "\n",
    "#= \n",
    "The difference between the output of my_func(5) and my_func(5.5) is:\n",
    "The array element type returned by my_func(5) is integer, while the array element type returned by my_func(5.5) is a floating point type.\n",
    "Because in Julia, the type of the i variable in a for loop is determined by the element type of the iterated object. In the range 1:5.5, \n",
    "5.5 is floating point number. Therefore, i is inferred to be of type floating point.\n",
    "=#"
   ]
  },
  {
   "cell_type": "markdown",
   "metadata": {},
   "source": [
    "Now slightly modify your function, and create a new function `odd` which outputs an array of all the odd numbers in [1,$n$]. Test your function with input 7."
   ]
  },
  {
   "cell_type": "code",
   "execution_count": 17,
   "metadata": {},
   "outputs": [
    {
     "data": {
      "text/plain": [
       "4-element Vector{Int64}:\n",
       " 1\n",
       " 3\n",
       " 5\n",
       " 7"
      ]
     },
     "execution_count": 17,
     "metadata": {},
     "output_type": "execute_result"
    }
   ],
   "source": [
    "function odd(n)\n",
    "    res = [i for i = 1:n if i%2 === 1]\n",
    "    return res\n",
    "end\n",
    "\n",
    "odd(7)"
   ]
  },
  {
   "cell_type": "code",
   "execution_count": null,
   "metadata": {},
   "outputs": [],
   "source": []
  },
  {
   "cell_type": "code",
   "execution_count": null,
   "metadata": {},
   "outputs": [],
   "source": []
  }
 ],
 "metadata": {
  "kernelspec": {
   "display_name": "Julia 1.10.0",
   "language": "julia",
   "name": "julia-1.10"
  },
  "language_info": {
   "file_extension": ".jl",
   "mimetype": "application/julia",
   "name": "julia",
   "version": "1.10.0"
  }
 },
 "nbformat": 4,
 "nbformat_minor": 4
}
