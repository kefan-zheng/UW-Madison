{
 "cells": [
  {
   "cell_type": "code",
   "execution_count": null,
   "metadata": {},
   "outputs": [],
   "source": [
    "using PyPlot \n",
    "\n",
    "function plot3d(vals)\n",
    "    nrows = size(vals,1)\n",
    "    ncols = size(vals,2)\n",
    "    _x = 1:nrows \n",
    "    _y = 1:ncols \n",
    "    # Make a meshgrid\n",
    "    x = _x' .* ones(ncols)\n",
    "    y = ones(nrows)' .* _y\n",
    "    # Unravels\n",
    "    x = vec(x)\n",
    "    y = vec(y)\n",
    "    # Heights\n",
    "\n",
    "    dz = vec(vals')\n",
    "    z = zeros(length(dz))\n",
    "\n",
    "    dx = 0.4\n",
    "    dy = 0.4\n",
    "\n",
    "    # println(\"x: \", x)\n",
    "    # println(\"y: \", y)\n",
    "    # println(\"z: \", z)\n",
    "    # println(\"dz: \", dz)\n",
    "    \n",
    "    bar3D(x,y,z,dx,dy,dz)\n",
    "    display(gcf())\n",
    "end\n"
   ]
  }
 ],
 "metadata": {
  "kernelspec": {
   "display_name": "Julia 1.10.0",
   "language": "julia",
   "name": "julia-1.10"
  },
  "language_info": {
   "file_extension": ".jl",
   "mimetype": "application/julia",
   "name": "julia",
   "version": "1.10.0"
  }
 },
 "nbformat": 4,
 "nbformat_minor": 2
}
