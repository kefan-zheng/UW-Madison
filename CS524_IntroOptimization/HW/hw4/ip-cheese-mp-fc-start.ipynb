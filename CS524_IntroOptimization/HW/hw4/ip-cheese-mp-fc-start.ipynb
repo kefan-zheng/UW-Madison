{
 "cells": [
  {
   "cell_type": "code",
   "execution_count": null,
   "metadata": {},
   "outputs": [],
   "source": [
    "# initial colby (pounds)\n",
    "i_colby = 120 \n",
    "\n",
    "# initial mozerella (pounds)\n",
    "i_moz = 80 \n",
    "\n",
    "# Demand for colby cheese (pounds)\n",
    "d_colby = [150 200 225 50 400 50 300 200]\n",
    "# Demand for mozerella cheese (pounds)\n",
    "d_moz = [200 400 300 500 100 500 200 350]\n",
    "\n",
    "# Fixed cost for a delivery of milk ($)\n",
    "fc_milk = [1000 1400 800 1200 600 1000 400 800]\n",
    "\n",
    "# Per-unit cost for milk ($/pound)\n",
    "p_milk = [1 0.8 0.8 1.2 1.2 1.0 1.5 0.6]\n",
    "\n",
    "# Processing cost of milk ($/pound)\n",
    "milk_proc_cost = 0.2 \n",
    "\n",
    "# inventory cost ($/pound) \n",
    "cheese_inventory_cost = 0.25\n",
    "\n",
    "# max total inventory (pounds)\n",
    "max_inventory = 500\n",
    "\n",
    "# colby price ($/pound)\n",
    "colby_price  = 2.5 \n",
    "\n",
    "# mozzerella price ($/pound)\n",
    "moz_price = 3.0 \n",
    "\n",
    "# colby/milk\n",
    "colby_per_milk = 0.5 \n",
    "\n",
    "# moz/milk \n",
    "moz_per_milk = 0.4\n",
    "\n",
    "# Number of time periods\n",
    "T = 8\n",
    "\n",
    "# The maximum milk you would buy in any period is surely no more than the total demand for cheese \n",
    "max_milk = [sum(d_colby[1:t])+sum(d_moz[1:t]) for t in 1:T]\n"
   ]
  }
 ],
 "metadata": {
  "kernelspec": {
   "display_name": "Julia 1.10.0",
   "language": "julia",
   "name": "julia-1.10"
  },
  "language_info": {
   "file_extension": ".jl",
   "mimetype": "application/julia",
   "name": "julia",
   "version": "1.10.0"
  }
 },
 "nbformat": 4,
 "nbformat_minor": 2
}
