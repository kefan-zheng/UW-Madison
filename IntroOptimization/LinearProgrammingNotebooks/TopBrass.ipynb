{
 "cells": [
  {
   "cell_type": "markdown",
   "metadata": {},
   "source": [
    "# Top Brass Trophy problem (Ex. 5.1 in Rardin'98)\n",
    "\n",
    "Top Brass Trophy Company makes large championship trophies for youth athletic leagues. At the moment, they are planning production for fall sports: football and soccer. Each football trophy has a wood base, an engraved plaque, a large brass football on top, and returns 12 dollars in profit. Soccer trophies are similar except that a brass soccer ball is on top, and the unit profit is only 9 dollars. Since the football has an asymmetric shape, its base requires 4 board feet of wood; the soccer base requires only 2 board feet. At the moment there are 1000 brass footballs in stock, 1500 soccer balls, 1750 plaques, and 4800 board feet of wood. What trophies should be produced from these supplies to maximize total profit assuming that all that are made can be sold?"
   ]
  },
  {
   "cell_type": "markdown",
   "metadata": {},
   "source": [
    "### Implementing the model in Julia"
   ]
  },
  {
   "cell_type": "code",
   "execution_count": 1,
   "metadata": {},
   "outputs": [
    {
     "name": "stderr",
     "output_type": "stream",
     "text": [
      "\u001b[32m\u001b[1mPrecompiling\u001b[22m\u001b[39m project...\n",
      "\u001b[91m  ✗ \u001b[39mGurobi\n",
      "  0 dependencies successfully precompiled in 2 seconds. 62 already precompiled.\n",
      "  \u001b[91m1\u001b[39m dependency errored.\n",
      "  For a report of the errors see `julia> err`. To retry use `pkg> precompile`\n",
      "\u001b[32m\u001b[1m    Updating\u001b[22m\u001b[39m registry at `~/.julia/registries/General.toml`\n",
      "\u001b[32m\u001b[1m   Resolving\u001b[22m\u001b[39m package versions...\n",
      "\u001b[32m\u001b[1m  No Changes\u001b[22m\u001b[39m to `~/.julia/environments/v1.10/Project.toml`\n",
      "\u001b[32m\u001b[1m  No Changes\u001b[22m\u001b[39m to `~/.julia/environments/v1.10/Manifest.toml`\n"
     ]
    }
   ],
   "source": [
    "using Pkg\n",
    "Pkg.build(\"HiGHS\")\n",
    "Pkg.add(\"HiGHS\")"
   ]
  },
  {
   "cell_type": "code",
   "execution_count": 2,
   "metadata": {},
   "outputs": [
    {
     "data": {
      "text/latex": [
       "$ 12 f + 9 s $"
      ],
      "text/plain": [
       "12 f + 9 s"
      ]
     },
     "execution_count": 2,
     "metadata": {},
     "output_type": "execute_result"
    }
   ],
   "source": [
    "# Putting together the model\n",
    "\n",
    "using JuMP\n",
    "\n",
    "m = Model()\n",
    "\n",
    "# (We'll just set up the model here and define the solver later)\n",
    "\n",
    "@variable(m, 0 <= f <= 1000)           # football trophies\n",
    "@variable(m, 0 <= s <= 1500)           # soccer trophies\n",
    "@constraint(m, 4f + 2s <= 4800)        # total board feet of wood\n",
    "@constraint(m, f + s <= 1750)          # total number of plaques\n",
    "@objective(m, Max, 12f + 9s)           # maximize profit"
   ]
  },
  {
   "cell_type": "code",
   "execution_count": 3,
   "metadata": {},
   "outputs": [
    {
     "data": {
      "text/latex": [
       "$$ \\begin{aligned}\n",
       "\\max\\quad & 12 f + 9 s\\\\\n",
       "\\text{Subject to} \\quad & 4 f + 2 s \\leq 4800\\\\\n",
       " & f + s \\leq 1750\\\\\n",
       " & f \\geq 0\\\\\n",
       " & s \\geq 0\\\\\n",
       " & f \\leq 1000\\\\\n",
       " & s \\leq 1500\\\\\n",
       "\\end{aligned} $$"
      ]
     },
     "metadata": {},
     "output_type": "display_data"
    }
   ],
   "source": [
    "# Printing the model\n",
    "print(m)"
   ]
  },
  {
   "cell_type": "code",
   "execution_count": 4,
   "metadata": {},
   "outputs": [
    {
     "name": "stdout",
     "output_type": "stream",
     "text": [
      "Max 12 f + 9 s\n",
      "Subject to\n",
      " 4 f + 2 s ≤ 4800\n",
      " f + s ≤ 1750\n",
      " f ≥ 0\n",
      " s ≥ 0\n",
      " f ≤ 1000\n",
      " s ≤ 1500\n",
      "\n"
     ]
    }
   ],
   "source": [
    "# An alternative way of printing the model\n",
    "println(m)"
   ]
  },
  {
   "cell_type": "markdown",
   "metadata": {},
   "source": [
    "Now let's solve it, and print the results!"
   ]
  },
  {
   "cell_type": "code",
   "execution_count": 5,
   "metadata": {},
   "outputs": [
    {
     "name": "stdout",
     "output_type": "stream",
     "text": [
      "Running HiGHS 1.6.0: Copyright (c) 2023 HiGHS under MIT licence terms\n",
      "Presolving model\n",
      "2 rows, 2 cols, 4 nonzeros\n",
      "2 rows, 2 cols, 4 nonzeros\n",
      "Presolve : Reductions: rows 2(-0); columns 2(-0); elements 4(-0) - Not reduced\n",
      "Problem not reduced by presolve: solving the LP\n",
      "Using EKK dual simplex solver - serial\n",
      "  Iteration        Objective     Infeasibilities num(sum)\n",
      "          0     0.0000000000e+00 Ph1: 0(0) 0s\n",
      "          2     1.7700000000e+04 Pr: 0(0) 0s\n",
      "Model   status      : Optimal\n",
      "Simplex   iterations: 2\n",
      "Objective value     :  1.7700000000e+04\n",
      "HiGHS run time      :          0.00\n",
      "  0.046739 seconds (190.09 k allocations: 12.484 MiB, 97.43% compilation time: 93% of which was recompilation)\n",
      "The total number of football trophies will be 650.0\n",
      "The total number of soccer   trophies will be 1100.0\n",
      "Total profit will be $17700.0\n"
     ]
    }
   ],
   "source": [
    "using HiGHS\n",
    "set_optimizer(m, HiGHS.Optimizer)\n",
    "@time optimize!(m)\n",
    "\n",
    "println(\"The total number of football trophies will be \", value(f))\n",
    "println(\"The total number of soccer   trophies will be \", value(s))\n",
    "println(\"Total profit will be \\$\", objective_value(m))"
   ]
  },
  {
   "cell_type": "markdown",
   "metadata": {},
   "source": [
    "Another way of implementing the model, separating the data and the model:"
   ]
  },
  {
   "cell_type": "code",
   "execution_count": 6,
   "metadata": {},
   "outputs": [],
   "source": [
    "# the types of trophies produced\n",
    "sports = [:football, :soccer]\n",
    "\n",
    "# wood required for each type of trophy (in board feet)\n",
    "wood   = Dict( :football => 4, :soccer => 2)\n",
    "\n",
    "# plaques required for each type of trophy\n",
    "plaques = Dict( :football => 1, :soccer => 1)\n",
    "\n",
    "# profit made for each trophy\n",
    "profit = Dict( :football => 12, :soccer => 9)\n",
    "\n",
    "# quantities in stock for each ingredient\n",
    "num_wood     = 4800\n",
    "num_plaques  = 1750\n",
    "num_football = 1000\n",
    "num_soccer   = 1500\n",
    ";"
   ]
  },
  {
   "cell_type": "markdown",
   "metadata": {},
   "source": [
    "Here we give names in the model to the plaque constraint, the wood constraint, and the objective."
   ]
  },
  {
   "cell_type": "code",
   "execution_count": 7,
   "metadata": {},
   "outputs": [
    {
     "data": {
      "text/latex": [
       "$ 12 trophies_{football} + 9 trophies_{soccer} $"
      ],
      "text/plain": [
       "12 trophies[football] + 9 trophies[soccer]"
      ]
     },
     "execution_count": 7,
     "metadata": {},
     "output_type": "execute_result"
    }
   ],
   "source": [
    "using JuMP, HiGHS\n",
    "m1 = Model()\n",
    "\n",
    "@variable(m1, trophies[sports] >= 0 )    # \"trophies\" is a dictionary indexed over sports\n",
    "\n",
    "@expression(m1, tot_plaques, sum(trophies[i] * plaques[i] for i in sports) )\n",
    "@expression(m1, tot_wood,    sum(trophies[i] * wood[i]    for i in sports) )\n",
    "@expression(m1, tot_profit,  sum(trophies[i] * profit[i]  for i in sports) )\n",
    "\n",
    "@constraint(m1, trophies[:soccer] <= num_soccer )      # maximum number of soccer balls\n",
    "@constraint(m1, trophies[:football] <= num_football )  # maximum number of footballs\n",
    "@constraint(m1, tot_plaques <= num_plaques )           # maximum number of plaques\n",
    "@constraint(m1, tot_wood    <= num_wood )              # maximum amount of wood\n",
    "\n",
    "@objective(m1, Max, tot_profit)"
   ]
  },
  {
   "cell_type": "markdown",
   "metadata": {},
   "source": [
    "Now we solve this version of the model."
   ]
  },
  {
   "cell_type": "code",
   "execution_count": 8,
   "metadata": {},
   "outputs": [
    {
     "name": "stdout",
     "output_type": "stream",
     "text": [
      "Running HiGHS 1.6.0: Copyright (c) 2023 HiGHS under MIT licence terms\n",
      "Presolving model\n",
      "2 rows, 2 cols, 4 nonzeros\n",
      "2 rows, 2 cols, 4 nonzeros\n",
      "Presolve : Reductions: rows 2(-2); columns 2(-0); elements 4(-2)\n",
      "Solving the presolved LP\n",
      "Using EKK dual simplex solver - serial\n",
      "  Iteration        Objective     Infeasibilities num(sum)\n",
      "          0     0.0000000000e+00 Ph1: 0(0) 0s\n",
      "          2    -1.7700000000e+04 Pr: 0(0) 0s\n",
      "Solving the original LP from the solution after postsolve\n",
      "Model   status      : Optimal\n",
      "Simplex   iterations: 2\n",
      "Objective value     :  1.7700000000e+04\n",
      "HiGHS run time      :          0.00\n",
      "The total number of football and soccer throphies will be [650.0, 1100.0]\n",
      "Total profit will be $17700.0\n",
      "Total wood used is 4800.0 board feet\n",
      "Total number of plaques used is 1750.0\n"
     ]
    }
   ],
   "source": [
    "set_optimizer(m1, HiGHS.Optimizer)\n",
    "optimize!(m1)\n",
    "\n",
    "println(\"The total number of football and soccer throphies will be \", [JuMP.value(trophies[i]) for i in sports])\n",
    "println(\"Total profit will be \\$\", JuMP.value(tot_profit))\n",
    "println(\"Total wood used is \", JuMP.value(tot_wood), \" board feet\")\n",
    "println(\"Total number of plaques used is \", JuMP.value(tot_plaques))"
   ]
  },
  {
   "cell_type": "markdown",
   "metadata": {},
   "source": [
    "### Solving the problem with various Linear Programming solvers!"
   ]
  },
  {
   "cell_type": "markdown",
   "metadata": {},
   "source": [
    "Solve the model and print the solution:"
   ]
  },
  {
   "cell_type": "code",
   "execution_count": 9,
   "metadata": {},
   "outputs": [
    {
     "name": "stderr",
     "output_type": "stream",
     "text": [
      "\u001b[32m\u001b[1m   Resolving\u001b[22m\u001b[39m package versions...\n",
      "\u001b[32m\u001b[1m  No Changes\u001b[22m\u001b[39m to `~/.julia/environments/v1.10/Project.toml`\n",
      "\u001b[32m\u001b[1m  No Changes\u001b[22m\u001b[39m to `~/.julia/environments/v1.10/Manifest.toml`\n",
      "\u001b[32m\u001b[1m   Resolving\u001b[22m\u001b[39m package versions...\n",
      "\u001b[32m\u001b[1m  No Changes\u001b[22m\u001b[39m to `~/.julia/environments/v1.10/Project.toml`\n",
      "\u001b[32m\u001b[1m  No Changes\u001b[22m\u001b[39m to `~/.julia/environments/v1.10/Manifest.toml`\n"
     ]
    }
   ],
   "source": [
    "# Let's first add some solvers\n",
    "\n",
    "using Pkg\n",
    "Pkg.add(\"ECOS\")\n",
    "Pkg.add(\"SCS\")\n",
    "\n",
    "\n",
    "using JuMP, ECOS, SCS"
   ]
  },
  {
   "cell_type": "markdown",
   "metadata": {},
   "source": [
    "Let's compare some solvers! (Note that they run faster after the first time!)"
   ]
  },
  {
   "cell_type": "code",
   "execution_count": 10,
   "metadata": {},
   "outputs": [
    {
     "name": "stdout",
     "output_type": "stream",
     "text": [
      "  4.176160 seconds (9.66 M allocations: 644.076 MiB, 2.51% gc time, 98.48% compilation time)\n",
      "OPTIMAL\n",
      "Build 649.9999988187323 football trophies.\n",
      "Build 1100.000000607336 soccer trophies.\n",
      "Total profit will be $17699.999991290813\n",
      "\n",
      "ECOS 2.0.8 - (C) embotech GmbH, Zurich Switzerland, 2012-15. Web: www.embotech.com/ECOS\n",
      "\n",
      "It     pcost       dcost      gap   pres   dres    k/t    mu     step   sigma     IR    |   BT\n",
      " 0  -1.586e+04  -3.576e+04  +1e+04  3e-06  3e-01  1e+00  1e+03    ---    ---    1  1  - |  -  - \n",
      " 1  -1.765e+04  -1.891e+04  +7e+02  2e-07  2e-02  1e+01  1e+02  0.9369  1e-02   0  0  0 |  0  0\n",
      " 2  -1.769e+04  -1.773e+04  +2e+01  6e-09  7e-04  1e+00  3e+00  0.9820  1e-02   0  0  0 |  0  0\n",
      " 3  -1.770e+04  -1.770e+04  +2e-01  6e-11  8e-06  1e-02  3e-02  0.9890  1e-04   1  0  0 |  0  0\n",
      " 4  -1.770e+04  -1.770e+04  +2e-03  7e-13  9e-08  1e-04  4e-04  0.9890  1e-04   1  0  0 |  0  0\n",
      " 5  -1.770e+04  -1.770e+04  +3e-05  8e-15  1e-09  2e-06  4e-06  0.9890  1e-04   1  0  0 |  0  0\n",
      "\n",
      "OPTIMAL (within feastol=9.7e-10, reltol=1.5e-09, abstol=2.7e-05).\n",
      "Runtime: 0.000030 seconds.\n",
      "\n"
     ]
    }
   ],
   "source": [
    "# ECOS\n",
    "\n",
    "m = Model()\n",
    "\n",
    "@variable(m, 0 <= f <= 1000)           # football trophies\n",
    "@variable(m, 0 <= s <= 1500)           # soccer trophies\n",
    "@constraint(m, 4f + 2s <= 4800)        # total board feet of wood\n",
    "@constraint(m, f + s <= 1750)          # total number of plaques\n",
    "@objective(m, Max, 12f +9s)           # maximize profit\n",
    "\n",
    "set_optimizer(m, ECOS.Optimizer)\n",
    "@time optimize!(m)\n",
    "println(termination_status(m))\n",
    "println(\"Build \", value(f), \" football trophies.\")\n",
    "println(\"Build \", value(s), \" soccer trophies.\")\n",
    "println(\"Total profit will be \\$\", objective_value(m))\n"
   ]
  },
  {
   "cell_type": "code",
   "execution_count": 11,
   "metadata": {},
   "outputs": [
    {
     "name": "stdout",
     "output_type": "stream",
     "text": [
      "------------------------------------------------------------------\n",
      "\t       SCS v3.2.4 - Splitting Conic Solver\n",
      "\t(c) Brendan O'Donoghue, Stanford University, 2012\n",
      "------------------------------------------------------------------\n",
      "problem:  variables n: 2, constraints m: 6\n",
      "cones: \t  l: linear vars: 6\n",
      "settings: eps_abs: 1.0e-04, eps_rel: 1.0e-04, eps_infeas: 1.0e-07\n",
      "\t  alpha: 1.50, scale: 1.00e-01, adaptive_scale: 1\n",
      "\t  max_iters: 100000, normalize: 1, rho_x: 1.00e-06\n",
      "\t  acceleration_lookback: 10, acceleration_interval: 10\n",
      "lin-sys:  sparse-direct-amd-qdldl\n",
      "\t  nnz(A): 8, nnz(P): 0\n",
      "------------------------------------------------------------------\n",
      " iter | pri res | dua res |   gap   |   obj   |  scale  | time (s)\n",
      "------------------------------------------------------------------\n",
      "     0| 4.80e+03  1.20e+01  3.13e+04 -1.57e+04  1.00e-01  9.50e-05 \n",
      "   250| 6.49e+00  3.48e-02  9.58e+00 -1.77e+04  5.33e-03  2.56e-04 \n",
      "   300| 3.73e-01  1.00e-03  1.19e+00 -1.77e+04  5.33e-03  2.68e-04 \n",
      "------------------------------------------------------------------\n",
      "status:  solved\n",
      "timings: total: 2.69e-04s = setup: 8.65e-05s + solve: 1.82e-04s\n",
      "\t lin-sys: 2.64e-05s, cones: 4.85e-06s, accel: 1.14e-04s\n",
      "------------------------------------------------------------------\n",
      "objective = -17700.395442\n",
      "------------------------------------------------------------------\n",
      "  1.330753 seconds (3.24 M allocations: 219.492 MiB, 2.67% gc time, 99.80% compilation time)\n",
      "OPTIMAL\n",
      "Build 649.7534130610671 football trophies.\n",
      "Build 1100.306424402046 soccer trophies.\n",
      "Total profit will be $17699.79877635122\n"
     ]
    }
   ],
   "source": [
    "# SCS\n",
    "\n",
    "# this time, defined the optimizer when initializing the model\n",
    "m = Model(SCS.Optimizer)\n",
    "\n",
    "@variable(m, 0 <= f <= 1000)           # football trophies\n",
    "@variable(m, 0 <= s <= 1500)           # soccer trophies\n",
    "@constraint(m, 4f + 2s <= 4800)        # total board feet of wood\n",
    "@constraint(m, f + s <= 1750)          # total number of plaques\n",
    "@objective(m, Max, 12f +9s)           # maximize profit\n",
    "\n",
    "@time optimize!(m)\n",
    "println(termination_status(m))\n",
    "println(\"Build \", value(f), \" football trophies.\")\n",
    "println(\"Build \", value(s), \" soccer trophies.\")\n",
    "println(\"Total profit will be \\$\", objective_value(m))\n"
   ]
  },
  {
   "cell_type": "code",
   "execution_count": 12,
   "metadata": {},
   "outputs": [
    {
     "name": "stderr",
     "output_type": "stream",
     "text": [
      "\u001b[32m\u001b[1m   Resolving\u001b[22m\u001b[39m package versions...\n",
      "\u001b[32m\u001b[1m  No Changes\u001b[22m\u001b[39m to `~/.julia/environments/v1.10/Project.toml`\n",
      "\u001b[32m\u001b[1m  No Changes\u001b[22m\u001b[39m to `~/.julia/environments/v1.10/Manifest.toml`\n",
      "\u001b[32m\u001b[1m    Building\u001b[22m\u001b[39m Gurobi → `~/.julia/scratchspaces/44cfe95a-1eb2-52ea-b672-e2afdf69b78f/5995b72d385235f3fe55f8f0c4ad61049f867814/build.log`\n"
     ]
    },
    {
     "ename": "LoadError",
     "evalue": "Error building `Gurobi`: \nERROR: LoadError: IOError: readdir(\"/Library/gurobi1000/macos_universal2/lib\"): no such file or directory (ENOENT)\nStacktrace:\n [1] uv_error\n   @ Base ./libuv.jl:100 [inlined]\n [2] readdir(dir::String; join::Bool, sort::Bool)\n   @ Base.Filesystem ./file.jl:869\n [3] readdir\n   @ ./file.jl:862 [inlined]\n [4] diagnose_gurobi_install()\n   @ Main ~/.julia/packages/Gurobi/yvF0V/deps/build.jl:120\n [5] top-level scope\n   @ ~/.julia/packages/Gurobi/yvF0V/deps/build.jl:180\n [6] include(fname::String)\n   @ Base.MainInclude ./client.jl:489\n [7] top-level scope\n   @ none:5\nin expression starting at /Users/kefan/.julia/packages/Gurobi/yvF0V/deps/build.jl:169\n\n**Unable to locate Gurobi installation. Running some common diagnostics.**\n\nGurobi.jl only supports the following versions:\n\n - gurobi110\n - gurobi100\n - gurobi95\n - gurobi91\n - gurobi90\n\nDid you download and install one of these versions from gurobi.com?\nInstalling Gurobi.jl via the Julia package manager is _not_ sufficient!\n\nFound GUROBI_HOME =  /Library/gurobi1000/macos_universal2\n\nDoes this point to the correct install location?\n\nWe're going to look for the Gurobi library in this directory:\n    /Library/gurobi1000/macos_universal2/lib\n\nThat directory has the following files:\n",
     "output_type": "error",
     "traceback": [
      "Error building `Gurobi`: \nERROR: LoadError: IOError: readdir(\"/Library/gurobi1000/macos_universal2/lib\"): no such file or directory (ENOENT)\nStacktrace:\n [1] uv_error\n   @ Base ./libuv.jl:100 [inlined]\n [2] readdir(dir::String; join::Bool, sort::Bool)\n   @ Base.Filesystem ./file.jl:869\n [3] readdir\n   @ ./file.jl:862 [inlined]\n [4] diagnose_gurobi_install()\n   @ Main ~/.julia/packages/Gurobi/yvF0V/deps/build.jl:120\n [5] top-level scope\n   @ ~/.julia/packages/Gurobi/yvF0V/deps/build.jl:180\n [6] include(fname::String)\n   @ Base.MainInclude ./client.jl:489\n [7] top-level scope\n   @ none:5\nin expression starting at /Users/kefan/.julia/packages/Gurobi/yvF0V/deps/build.jl:169\n\n**Unable to locate Gurobi installation. Running some common diagnostics.**\n\nGurobi.jl only supports the following versions:\n\n - gurobi110\n - gurobi100\n - gurobi95\n - gurobi91\n - gurobi90\n\nDid you download and install one of these versions from gurobi.com?\nInstalling Gurobi.jl via the Julia package manager is _not_ sufficient!\n\nFound GUROBI_HOME =  /Library/gurobi1000/macos_universal2\n\nDoes this point to the correct install location?\n\nWe're going to look for the Gurobi library in this directory:\n    /Library/gurobi1000/macos_universal2/lib\n\nThat directory has the following files:\n",
      "",
      "Stacktrace:",
      "  [1] pkgerror(msg::String)",
      "    @ Pkg.Types ~/.julia/juliaup/julia-1.10.0+0.aarch64.apple.darwin14/share/julia/stdlib/v1.10/Pkg/src/Types.jl:70",
      "  [2] (::Pkg.Operations.var\"#67#74\"{Bool, Pkg.Types.Context, String, Pkg.Types.PackageSpec, String})()",
      "    @ Pkg.Operations ~/.julia/juliaup/julia-1.10.0+0.aarch64.apple.darwin14/share/julia/stdlib/v1.10/Pkg/src/Operations.jl:1156",
      "  [3] withenv(::Pkg.Operations.var\"#67#74\"{Bool, Pkg.Types.Context, String, Pkg.Types.PackageSpec, String}, ::Pair{String, String}, ::Vararg{Pair{String}})",
      "    @ Base ./env.jl:256",
      "  [4] (::Pkg.Operations.var\"#117#122\"{String, Bool, Bool, Bool, Pkg.Operations.var\"#67#74\"{Bool, Pkg.Types.Context, String, Pkg.Types.PackageSpec, String}, Pkg.Types.PackageSpec})()",
      "    @ Pkg.Operations ~/.julia/juliaup/julia-1.10.0+0.aarch64.apple.darwin14/share/julia/stdlib/v1.10/Pkg/src/Operations.jl:1824",
      "  [5] with_temp_env(fn::Pkg.Operations.var\"#117#122\"{String, Bool, Bool, Bool, Pkg.Operations.var\"#67#74\"{Bool, Pkg.Types.Context, String, Pkg.Types.PackageSpec, String}, Pkg.Types.PackageSpec}, temp_env::String)",
      "    @ Pkg.Operations ~/.julia/juliaup/julia-1.10.0+0.aarch64.apple.darwin14/share/julia/stdlib/v1.10/Pkg/src/Operations.jl:1705",
      "  [6] (::Pkg.Operations.var\"#115#120\"{Dict{String, Any}, Bool, Bool, Bool, Pkg.Operations.var\"#67#74\"{Bool, Pkg.Types.Context, String, Pkg.Types.PackageSpec, String}, Pkg.Types.Context, Pkg.Types.PackageSpec, String, Pkg.Types.Project, String})(tmp::String)",
      "    @ Pkg.Operations ~/.julia/juliaup/julia-1.10.0+0.aarch64.apple.darwin14/share/julia/stdlib/v1.10/Pkg/src/Operations.jl:1794",
      "  [7] mktempdir(fn::Pkg.Operations.var\"#115#120\"{Dict{String, Any}, Bool, Bool, Bool, Pkg.Operations.var\"#67#74\"{Bool, Pkg.Types.Context, String, Pkg.Types.PackageSpec, String}, Pkg.Types.Context, Pkg.Types.PackageSpec, String, Pkg.Types.Project, String}, parent::String; prefix::String)",
      "    @ Base.Filesystem ./file.jl:766",
      "  [8] mktempdir(fn::Function, parent::String)",
      "    @ Base.Filesystem ./file.jl:762",
      "  [9] mktempdir(fn::Function)",
      "    @ Base.Filesystem ./file.jl:762 [inlined]",
      " [10] sandbox(fn::Function, ctx::Pkg.Types.Context, target::Pkg.Types.PackageSpec, target_path::String, sandbox_path::String, sandbox_project_override::Pkg.Types.Project; preferences::Dict{String, Any}, force_latest_compatible_version::Bool, allow_earlier_backwards_compatible_versions::Bool, allow_reresolve::Bool)",
      "    @ Pkg.Operations ~/.julia/juliaup/julia-1.10.0+0.aarch64.apple.darwin14/share/julia/stdlib/v1.10/Pkg/src/Operations.jl:1752",
      " [11] build_versions(ctx::Pkg.Types.Context, uuids::Set{Base.UUID}; verbose::Bool)",
      "    @ Pkg.Operations ~/.julia/juliaup/julia-1.10.0+0.aarch64.apple.darwin14/share/julia/stdlib/v1.10/Pkg/src/Operations.jl:1137",
      " [12] build_versions",
      "    @ ~/.julia/juliaup/julia-1.10.0+0.aarch64.apple.darwin14/share/julia/stdlib/v1.10/Pkg/src/Operations.jl:1055 [inlined]",
      " [13] build(ctx::Pkg.Types.Context, uuids::Set{Base.UUID}, verbose::Bool)",
      "    @ Pkg.Operations ~/.julia/juliaup/julia-1.10.0+0.aarch64.apple.darwin14/share/julia/stdlib/v1.10/Pkg/src/Operations.jl:995",
      " [14] build(ctx::Pkg.Types.Context, pkgs::Vector{Pkg.Types.PackageSpec}; verbose::Bool, kwargs::@Kwargs{io::IJulia.IJuliaStdio{Base.PipeEndpoint}})",
      "    @ Pkg.API ~/.julia/juliaup/julia-1.10.0+0.aarch64.apple.darwin14/share/julia/stdlib/v1.10/Pkg/src/API.jl:1056",
      " [15] build(pkgs::Vector{Pkg.Types.PackageSpec}; io::IJulia.IJuliaStdio{Base.PipeEndpoint}, kwargs::@Kwargs{})",
      "    @ Pkg.API ~/.julia/juliaup/julia-1.10.0+0.aarch64.apple.darwin14/share/julia/stdlib/v1.10/Pkg/src/API.jl:159",
      " [16] build(pkgs::Vector{Pkg.Types.PackageSpec})",
      "    @ Pkg.API ~/.julia/juliaup/julia-1.10.0+0.aarch64.apple.darwin14/share/julia/stdlib/v1.10/Pkg/src/API.jl:148",
      " [17] build",
      "    @ Pkg.API ~/.julia/juliaup/julia-1.10.0+0.aarch64.apple.darwin14/share/julia/stdlib/v1.10/Pkg/src/API.jl:147 [inlined]",
      " [18] build(pkg::String)",
      "    @ Pkg.API ~/.julia/juliaup/julia-1.10.0+0.aarch64.apple.darwin14/share/julia/stdlib/v1.10/Pkg/src/API.jl:146",
      " [19] top-level scope",
      "    @ In[12]:18"
     ]
    }
   ],
   "source": [
    "# INSTALLING GUROBI AND GETTING A LICENSE: UPDATED 1/20/23\n",
    "\n",
    "# Go to https://github.com/jump-dev/Gurobi.jl\n",
    "\n",
    "# Scroll down to \"First Obtain a License...\" and click through to Gurobi's web site.\n",
    "\n",
    "# After establishing an account with Gurobi, go to the dropdown menu \"Downloads and Licenses\" and select \"Academic License\"\n",
    "\n",
    "# run \"grbgetkey\" as instructed, with the license number provided. When it asks which directory to store the license in,\n",
    "# I type \"/Library/gurobi1000\"\n",
    "\n",
    "# Now I run this:\n",
    "\n",
    "ENV[\"GUROBI_HOME\"] = \"/Library/gurobi1000/macos_universal2\"\n",
    "ENV[\"GRB_LICENSE_FILE\"] = \"/Library/gurobi1000/gurobi.lic\"\n",
    "import Pkg\n",
    "Pkg.add(\"Gurobi\")\n",
    "Pkg.build(\"Gurobi\")"
   ]
  },
  {
   "cell_type": "code",
   "execution_count": 13,
   "metadata": {},
   "outputs": [
    {
     "name": "stderr",
     "output_type": "stream",
     "text": [
      "\u001b[32m\u001b[1mPrecompiling\u001b[22m\u001b[39m Gurobi\n",
      "\u001b[36m\u001b[1m        Info\u001b[22m\u001b[39m Given Gurobi was explicitly requested, output will be shown live \u001b[0K\n",
      "\u001b[0K\u001b[91m\u001b[1mERROR: \u001b[22m\u001b[39mLoadError: SystemError: opening file \"/Users/kefan/.julia/packages/Gurobi/yvF0V/deps/deps.jl\": No such file or directory\n",
      "\u001b[0KStacktrace:\n",
      "\u001b[0K  [1] \u001b[0m\u001b[1msystemerror\u001b[22m\u001b[0m\u001b[1m(\u001b[22m\u001b[90mp\u001b[39m::\u001b[0mString, \u001b[90merrno\u001b[39m::\u001b[0mInt32; \u001b[90mextrainfo\u001b[39m::\u001b[0mNothing\u001b[0m\u001b[1m)\u001b[22m\n",
      "\u001b[0K\u001b[90m    @\u001b[39m \u001b[90mBase\u001b[39m \u001b[90m./\u001b[39m\u001b[90m\u001b[4merror.jl:176\u001b[24m\u001b[39m\n",
      "\u001b[0K  [2] \u001b[0m\u001b[1msystemerror\u001b[22m\n",
      "\u001b[0K\u001b[90m    @\u001b[39m \u001b[90mBase\u001b[39m \u001b[90m./\u001b[39m\u001b[90m\u001b[4merror.jl:175\u001b[24m\u001b[39m\u001b[90m [inlined]\u001b[39m\n",
      "\u001b[0K  [3] \u001b[0m\u001b[1mopen\u001b[22m\u001b[0m\u001b[1m(\u001b[22m\u001b[90mfname\u001b[39m::\u001b[0mString; \u001b[90mlock\u001b[39m::\u001b[0mBool, \u001b[90mread\u001b[39m::\u001b[0mNothing, \u001b[90mwrite\u001b[39m::\u001b[0mNothing, \u001b[90mcreate\u001b[39m::\u001b[0mNothing, \u001b[90mtruncate\u001b[39m::\u001b[0mNothing, \u001b[90mappend\u001b[39m::\u001b[0mNothing\u001b[0m\u001b[1m)\u001b[22m\n",
      "\u001b[0K\u001b[90m    @\u001b[39m \u001b[90mBase\u001b[39m \u001b[90m./\u001b[39m\u001b[90m\u001b[4miostream.jl:293\u001b[24m\u001b[39m\n",
      "\u001b[0K  [4] \u001b[0m\u001b[1mopen\u001b[22m\n",
      "\u001b[0K\u001b[90m    @\u001b[39m \u001b[90mBase\u001b[39m \u001b[90m./\u001b[39m\u001b[90m\u001b[4miostream.jl:275\u001b[24m\u001b[39m\u001b[90m [inlined]\u001b[39m\n",
      "\u001b[0K  [5] \u001b[0m\u001b[1mopen\u001b[22m\u001b[0m\u001b[1m(\u001b[22m\u001b[90mf\u001b[39m::\u001b[0mBase.var\"#433#434\"\u001b[90m{String}\u001b[39m, \u001b[90margs\u001b[39m::\u001b[0mString; \u001b[90mkwargs\u001b[39m::\u001b[0m@Kwargs\u001b[90m{}\u001b[39m\u001b[0m\u001b[1m)\u001b[22m\n",
      "\u001b[0K\u001b[90m    @\u001b[39m \u001b[90mBase\u001b[39m \u001b[90m./\u001b[39m\u001b[90m\u001b[4mio.jl:394\u001b[24m\u001b[39m\n",
      "\u001b[0K  [6] \u001b[0m\u001b[1mopen\u001b[22m\n",
      "\u001b[0K\u001b[90m    @\u001b[39m \u001b[90mBase\u001b[39m \u001b[90m./\u001b[39m\u001b[90m\u001b[4mio.jl:393\u001b[24m\u001b[39m\u001b[90m [inlined]\u001b[39m\n",
      "\u001b[0K  [7] \u001b[0m\u001b[1mread\u001b[22m\n",
      "\u001b[0K\u001b[90m    @\u001b[39m \u001b[90mBase\u001b[39m \u001b[90m./\u001b[39m\u001b[90m\u001b[4mio.jl:486\u001b[24m\u001b[39m\u001b[90m [inlined]\u001b[39m\n",
      "\u001b[0K  [8] \u001b[0m\u001b[1m_include\u001b[22m\u001b[0m\u001b[1m(\u001b[22m\u001b[90mmapexpr\u001b[39m::\u001b[0mFunction, \u001b[90mmod\u001b[39m::\u001b[0mModule, \u001b[90m_path\u001b[39m::\u001b[0mString\u001b[0m\u001b[1m)\u001b[22m\n",
      "\u001b[0K\u001b[90m    @\u001b[39m \u001b[90mBase\u001b[39m \u001b[90m./\u001b[39m\u001b[90m\u001b[4mloading.jl:2126\u001b[24m\u001b[39m\n",
      "\u001b[0K  [9] \u001b[0m\u001b[1minclude\u001b[22m\u001b[0m\u001b[1m(\u001b[22m\u001b[90mmod\u001b[39m::\u001b[0mModule, \u001b[90m_path\u001b[39m::\u001b[0mString\u001b[0m\u001b[1m)\u001b[22m\n",
      "\u001b[0K\u001b[90m    @\u001b[39m \u001b[90mBase\u001b[39m \u001b[90m./\u001b[39m\u001b[90m\u001b[4mBase.jl:495\u001b[24m\u001b[39m\n",
      "\u001b[0K [10] \u001b[0m\u001b[1minclude\u001b[22m\u001b[0m\u001b[1m(\u001b[22m\u001b[90mx\u001b[39m::\u001b[0mString\u001b[0m\u001b[1m)\u001b[22m\n",
      "\u001b[0K\u001b[90m    @\u001b[39m \u001b[35mGurobi\u001b[39m \u001b[90m~/.julia/packages/Gurobi/yvF0V/src/\u001b[39m\u001b[90m\u001b[4mGurobi.jl:7\u001b[24m\u001b[39m\n",
      "\u001b[0K [11] top-level scope\n",
      "\u001b[0K\u001b[90m    @\u001b[39m \u001b[90m~/.julia/packages/Gurobi/yvF0V/src/\u001b[39m\u001b[90m\u001b[4mGurobi.jl:14\u001b[24m\u001b[39m\n",
      "\u001b[0K [12] \u001b[0m\u001b[1minclude\u001b[22m\n",
      "\u001b[0K\u001b[90m    @\u001b[39m \u001b[90mBase\u001b[39m \u001b[90m./\u001b[39m\u001b[90m\u001b[4mBase.jl:495\u001b[24m\u001b[39m\u001b[90m [inlined]\u001b[39m\n",
      "\u001b[0K [13] \u001b[0m\u001b[1minclude_package_for_output\u001b[22m\u001b[0m\u001b[1m(\u001b[22m\u001b[90mpkg\u001b[39m::\u001b[0mBase.PkgId, \u001b[90minput\u001b[39m::\u001b[0mString, \u001b[90mdepot_path\u001b[39m::\u001b[0mVector\u001b[90m{String}\u001b[39m, \u001b[90mdl_load_path\u001b[39m::\u001b[0mVector\u001b[90m{String}\u001b[39m, \u001b[90mload_path\u001b[39m::\u001b[0mVector\u001b[90m{String}\u001b[39m, \u001b[90mconcrete_deps\u001b[39m::\u001b[0mVector\u001b[90m{Pair{Base.PkgId, UInt128}}\u001b[39m, \u001b[90msource\u001b[39m::\u001b[0mNothing\u001b[0m\u001b[1m)\u001b[22m\n",
      "\u001b[0K\u001b[90m    @\u001b[39m \u001b[90mBase\u001b[39m \u001b[90m./\u001b[39m\u001b[90m\u001b[4mloading.jl:2216\u001b[24m\u001b[39m\n",
      "\u001b[0K [14] top-level scope\n",
      "\u001b[0K\u001b[90m    @\u001b[39m \u001b[90m\u001b[4mstdin:3\u001b[24m\u001b[39m\n",
      "\u001b[0Kin expression starting at /Users/kefan/.julia/packages/Gurobi/yvF0V/src/Gurobi.jl:7\n",
      "\u001b[0Kin expression starting at stdin:3\n",
      "\u001b[91m  ✗ \u001b[39mGurobi\n",
      "  0 dependencies successfully precompiled in 1 seconds. 38 already precompiled.\n",
      "\n"
     ]
    },
    {
     "ename": "LoadError",
     "evalue": "The following 1 direct dependency failed to precompile:\n\nGurobi [2e9cd046-0924-5485-92f1-d5272153d98b]\n\nFailed to precompile Gurobi [2e9cd046-0924-5485-92f1-d5272153d98b] to \"/Users/kefan/.julia/compiled/v1.10/Gurobi/jl_tPLOud\".\n\u001b[91m\u001b[1mERROR: \u001b[22m\u001b[39mLoadError: SystemError: opening file \"/Users/kefan/.julia/packages/Gurobi/yvF0V/deps/deps.jl\": No such file or directory\nStacktrace:\n  [1] \u001b[0m\u001b[1msystemerror\u001b[22m\u001b[0m\u001b[1m(\u001b[22m\u001b[90mp\u001b[39m::\u001b[0mString, \u001b[90merrno\u001b[39m::\u001b[0mInt32; \u001b[90mextrainfo\u001b[39m::\u001b[0mNothing\u001b[0m\u001b[1m)\u001b[22m\n\u001b[90m    @\u001b[39m \u001b[90mBase\u001b[39m \u001b[90m./\u001b[39m\u001b[90m\u001b[4merror.jl:176\u001b[24m\u001b[39m\n  [2] \u001b[0m\u001b[1msystemerror\u001b[22m\n\u001b[90m    @\u001b[39m \u001b[90mBase\u001b[39m \u001b[90m./\u001b[39m\u001b[90m\u001b[4merror.jl:175\u001b[24m\u001b[39m\u001b[90m [inlined]\u001b[39m\n  [3] \u001b[0m\u001b[1mopen\u001b[22m\u001b[0m\u001b[1m(\u001b[22m\u001b[90mfname\u001b[39m::\u001b[0mString; \u001b[90mlock\u001b[39m::\u001b[0mBool, \u001b[90mread\u001b[39m::\u001b[0mNothing, \u001b[90mwrite\u001b[39m::\u001b[0mNothing, \u001b[90mcreate\u001b[39m::\u001b[0mNothing, \u001b[90mtruncate\u001b[39m::\u001b[0mNothing, \u001b[90mappend\u001b[39m::\u001b[0mNothing\u001b[0m\u001b[1m)\u001b[22m\n\u001b[90m    @\u001b[39m \u001b[90mBase\u001b[39m \u001b[90m./\u001b[39m\u001b[90m\u001b[4miostream.jl:293\u001b[24m\u001b[39m\n  [4] \u001b[0m\u001b[1mopen\u001b[22m\n\u001b[90m    @\u001b[39m \u001b[90mBase\u001b[39m \u001b[90m./\u001b[39m\u001b[90m\u001b[4miostream.jl:275\u001b[24m\u001b[39m\u001b[90m [inlined]\u001b[39m\n  [5] \u001b[0m\u001b[1mopen\u001b[22m\u001b[0m\u001b[1m(\u001b[22m\u001b[90mf\u001b[39m::\u001b[0mBase.var\"#433#434\"\u001b[90m{String}\u001b[39m, \u001b[90margs\u001b[39m::\u001b[0mString; \u001b[90mkwargs\u001b[39m::\u001b[0m@Kwargs\u001b[90m{}\u001b[39m\u001b[0m\u001b[1m)\u001b[22m\n\u001b[90m    @\u001b[39m \u001b[90mBase\u001b[39m \u001b[90m./\u001b[39m\u001b[90m\u001b[4mio.jl:394\u001b[24m\u001b[39m\n  [6] \u001b[0m\u001b[1mopen\u001b[22m\n\u001b[90m    @\u001b[39m \u001b[90mBase\u001b[39m \u001b[90m./\u001b[39m\u001b[90m\u001b[4mio.jl:393\u001b[24m\u001b[39m\u001b[90m [inlined]\u001b[39m\n  [7] \u001b[0m\u001b[1mread\u001b[22m\n\u001b[90m    @\u001b[39m \u001b[90mBase\u001b[39m \u001b[90m./\u001b[39m\u001b[90m\u001b[4mio.jl:486\u001b[24m\u001b[39m\u001b[90m [inlined]\u001b[39m\n  [8] \u001b[0m\u001b[1m_include\u001b[22m\u001b[0m\u001b[1m(\u001b[22m\u001b[90mmapexpr\u001b[39m::\u001b[0mFunction, \u001b[90mmod\u001b[39m::\u001b[0mModule, \u001b[90m_path\u001b[39m::\u001b[0mString\u001b[0m\u001b[1m)\u001b[22m\n\u001b[90m    @\u001b[39m \u001b[90mBase\u001b[39m \u001b[90m./\u001b[39m\u001b[90m\u001b[4mloading.jl:2126\u001b[24m\u001b[39m\n  [9] \u001b[0m\u001b[1minclude\u001b[22m\u001b[0m\u001b[1m(\u001b[22m\u001b[90mmod\u001b[39m::\u001b[0mModule, \u001b[90m_path\u001b[39m::\u001b[0mString\u001b[0m\u001b[1m)\u001b[22m\n\u001b[90m    @\u001b[39m \u001b[90mBase\u001b[39m \u001b[90m./\u001b[39m\u001b[90m\u001b[4mBase.jl:495\u001b[24m\u001b[39m\n [10] \u001b[0m\u001b[1minclude\u001b[22m\u001b[0m\u001b[1m(\u001b[22m\u001b[90mx\u001b[39m::\u001b[0mString\u001b[0m\u001b[1m)\u001b[22m\n\u001b[90m    @\u001b[39m \u001b[35mGurobi\u001b[39m \u001b[90m~/.julia/packages/Gurobi/yvF0V/src/\u001b[39m\u001b[90m\u001b[4mGurobi.jl:7\u001b[24m\u001b[39m\n [11] top-level scope\n\u001b[90m    @\u001b[39m \u001b[90m~/.julia/packages/Gurobi/yvF0V/src/\u001b[39m\u001b[90m\u001b[4mGurobi.jl:14\u001b[24m\u001b[39m\n [12] \u001b[0m\u001b[1minclude\u001b[22m\n\u001b[90m    @\u001b[39m \u001b[90mBase\u001b[39m \u001b[90m./\u001b[39m\u001b[90m\u001b[4mBase.jl:495\u001b[24m\u001b[39m\u001b[90m [inlined]\u001b[39m\n [13] \u001b[0m\u001b[1minclude_package_for_output\u001b[22m\u001b[0m\u001b[1m(\u001b[22m\u001b[90mpkg\u001b[39m::\u001b[0mBase.PkgId, \u001b[90minput\u001b[39m::\u001b[0mString, \u001b[90mdepot_path\u001b[39m::\u001b[0mVector\u001b[90m{String}\u001b[39m, \u001b[90mdl_load_path\u001b[39m::\u001b[0mVector\u001b[90m{String}\u001b[39m, \u001b[90mload_path\u001b[39m::\u001b[0mVector\u001b[90m{String}\u001b[39m, \u001b[90mconcrete_deps\u001b[39m::\u001b[0mVector\u001b[90m{Pair{Base.PkgId, UInt128}}\u001b[39m, \u001b[90msource\u001b[39m::\u001b[0mNothing\u001b[0m\u001b[1m)\u001b[22m\n\u001b[90m    @\u001b[39m \u001b[90mBase\u001b[39m \u001b[90m./\u001b[39m\u001b[90m\u001b[4mloading.jl:2216\u001b[24m\u001b[39m\n [14] top-level scope\n\u001b[90m    @\u001b[39m \u001b[90m\u001b[4mstdin:3\u001b[24m\u001b[39m\nin expression starting at /Users/kefan/.julia/packages/Gurobi/yvF0V/src/Gurobi.jl:7\nin expression starting at stdin:",
     "output_type": "error",
     "traceback": [
      "The following 1 direct dependency failed to precompile:\n\nGurobi [2e9cd046-0924-5485-92f1-d5272153d98b]\n\nFailed to precompile Gurobi [2e9cd046-0924-5485-92f1-d5272153d98b] to \"/Users/kefan/.julia/compiled/v1.10/Gurobi/jl_tPLOud\".\n\u001b[91m\u001b[1mERROR: \u001b[22m\u001b[39mLoadError: SystemError: opening file \"/Users/kefan/.julia/packages/Gurobi/yvF0V/deps/deps.jl\": No such file or directory\nStacktrace:\n  [1] \u001b[0m\u001b[1msystemerror\u001b[22m\u001b[0m\u001b[1m(\u001b[22m\u001b[90mp\u001b[39m::\u001b[0mString, \u001b[90merrno\u001b[39m::\u001b[0mInt32; \u001b[90mextrainfo\u001b[39m::\u001b[0mNothing\u001b[0m\u001b[1m)\u001b[22m\n\u001b[90m    @\u001b[39m \u001b[90mBase\u001b[39m \u001b[90m./\u001b[39m\u001b[90m\u001b[4merror.jl:176\u001b[24m\u001b[39m\n  [2] \u001b[0m\u001b[1msystemerror\u001b[22m\n\u001b[90m    @\u001b[39m \u001b[90mBase\u001b[39m \u001b[90m./\u001b[39m\u001b[90m\u001b[4merror.jl:175\u001b[24m\u001b[39m\u001b[90m [inlined]\u001b[39m\n  [3] \u001b[0m\u001b[1mopen\u001b[22m\u001b[0m\u001b[1m(\u001b[22m\u001b[90mfname\u001b[39m::\u001b[0mString; \u001b[90mlock\u001b[39m::\u001b[0mBool, \u001b[90mread\u001b[39m::\u001b[0mNothing, \u001b[90mwrite\u001b[39m::\u001b[0mNothing, \u001b[90mcreate\u001b[39m::\u001b[0mNothing, \u001b[90mtruncate\u001b[39m::\u001b[0mNothing, \u001b[90mappend\u001b[39m::\u001b[0mNothing\u001b[0m\u001b[1m)\u001b[22m\n\u001b[90m    @\u001b[39m \u001b[90mBase\u001b[39m \u001b[90m./\u001b[39m\u001b[90m\u001b[4miostream.jl:293\u001b[24m\u001b[39m\n  [4] \u001b[0m\u001b[1mopen\u001b[22m\n\u001b[90m    @\u001b[39m \u001b[90mBase\u001b[39m \u001b[90m./\u001b[39m\u001b[90m\u001b[4miostream.jl:275\u001b[24m\u001b[39m\u001b[90m [inlined]\u001b[39m\n  [5] \u001b[0m\u001b[1mopen\u001b[22m\u001b[0m\u001b[1m(\u001b[22m\u001b[90mf\u001b[39m::\u001b[0mBase.var\"#433#434\"\u001b[90m{String}\u001b[39m, \u001b[90margs\u001b[39m::\u001b[0mString; \u001b[90mkwargs\u001b[39m::\u001b[0m@Kwargs\u001b[90m{}\u001b[39m\u001b[0m\u001b[1m)\u001b[22m\n\u001b[90m    @\u001b[39m \u001b[90mBase\u001b[39m \u001b[90m./\u001b[39m\u001b[90m\u001b[4mio.jl:394\u001b[24m\u001b[39m\n  [6] \u001b[0m\u001b[1mopen\u001b[22m\n\u001b[90m    @\u001b[39m \u001b[90mBase\u001b[39m \u001b[90m./\u001b[39m\u001b[90m\u001b[4mio.jl:393\u001b[24m\u001b[39m\u001b[90m [inlined]\u001b[39m\n  [7] \u001b[0m\u001b[1mread\u001b[22m\n\u001b[90m    @\u001b[39m \u001b[90mBase\u001b[39m \u001b[90m./\u001b[39m\u001b[90m\u001b[4mio.jl:486\u001b[24m\u001b[39m\u001b[90m [inlined]\u001b[39m\n  [8] \u001b[0m\u001b[1m_include\u001b[22m\u001b[0m\u001b[1m(\u001b[22m\u001b[90mmapexpr\u001b[39m::\u001b[0mFunction, \u001b[90mmod\u001b[39m::\u001b[0mModule, \u001b[90m_path\u001b[39m::\u001b[0mString\u001b[0m\u001b[1m)\u001b[22m\n\u001b[90m    @\u001b[39m \u001b[90mBase\u001b[39m \u001b[90m./\u001b[39m\u001b[90m\u001b[4mloading.jl:2126\u001b[24m\u001b[39m\n  [9] \u001b[0m\u001b[1minclude\u001b[22m\u001b[0m\u001b[1m(\u001b[22m\u001b[90mmod\u001b[39m::\u001b[0mModule, \u001b[90m_path\u001b[39m::\u001b[0mString\u001b[0m\u001b[1m)\u001b[22m\n\u001b[90m    @\u001b[39m \u001b[90mBase\u001b[39m \u001b[90m./\u001b[39m\u001b[90m\u001b[4mBase.jl:495\u001b[24m\u001b[39m\n [10] \u001b[0m\u001b[1minclude\u001b[22m\u001b[0m\u001b[1m(\u001b[22m\u001b[90mx\u001b[39m::\u001b[0mString\u001b[0m\u001b[1m)\u001b[22m\n\u001b[90m    @\u001b[39m \u001b[35mGurobi\u001b[39m \u001b[90m~/.julia/packages/Gurobi/yvF0V/src/\u001b[39m\u001b[90m\u001b[4mGurobi.jl:7\u001b[24m\u001b[39m\n [11] top-level scope\n\u001b[90m    @\u001b[39m \u001b[90m~/.julia/packages/Gurobi/yvF0V/src/\u001b[39m\u001b[90m\u001b[4mGurobi.jl:14\u001b[24m\u001b[39m\n [12] \u001b[0m\u001b[1minclude\u001b[22m\n\u001b[90m    @\u001b[39m \u001b[90mBase\u001b[39m \u001b[90m./\u001b[39m\u001b[90m\u001b[4mBase.jl:495\u001b[24m\u001b[39m\u001b[90m [inlined]\u001b[39m\n [13] \u001b[0m\u001b[1minclude_package_for_output\u001b[22m\u001b[0m\u001b[1m(\u001b[22m\u001b[90mpkg\u001b[39m::\u001b[0mBase.PkgId, \u001b[90minput\u001b[39m::\u001b[0mString, \u001b[90mdepot_path\u001b[39m::\u001b[0mVector\u001b[90m{String}\u001b[39m, \u001b[90mdl_load_path\u001b[39m::\u001b[0mVector\u001b[90m{String}\u001b[39m, \u001b[90mload_path\u001b[39m::\u001b[0mVector\u001b[90m{String}\u001b[39m, \u001b[90mconcrete_deps\u001b[39m::\u001b[0mVector\u001b[90m{Pair{Base.PkgId, UInt128}}\u001b[39m, \u001b[90msource\u001b[39m::\u001b[0mNothing\u001b[0m\u001b[1m)\u001b[22m\n\u001b[90m    @\u001b[39m \u001b[90mBase\u001b[39m \u001b[90m./\u001b[39m\u001b[90m\u001b[4mloading.jl:2216\u001b[24m\u001b[39m\n [14] top-level scope\n\u001b[90m    @\u001b[39m \u001b[90m\u001b[4mstdin:3\u001b[24m\u001b[39m\nin expression starting at /Users/kefan/.julia/packages/Gurobi/yvF0V/src/Gurobi.jl:7\nin expression starting at stdin:",
      "",
      "Stacktrace:",
      "  [1] pkgerror(msg::String)",
      "    @ Pkg.Types ~/.julia/juliaup/julia-1.10.0+0.aarch64.apple.darwin14/share/julia/stdlib/v1.10/Pkg/src/Types.jl:70",
      "  [2] precompile(ctx::Pkg.Types.Context, pkgs::Vector{Pkg.Types.PackageSpec}; internal_call::Bool, strict::Bool, warn_loaded::Bool, already_instantiated::Bool, timing::Bool, _from_loading::Bool, kwargs::@Kwargs{io::IJulia.IJuliaStdio{Base.PipeEndpoint}})",
      "    @ Pkg.API ~/.julia/juliaup/julia-1.10.0+0.aarch64.apple.darwin14/share/julia/stdlib/v1.10/Pkg/src/API.jl:1656",
      "  [3] precompile(pkgs::Vector{Pkg.Types.PackageSpec}; io::IJulia.IJuliaStdio{Base.PipeEndpoint}, kwargs::@Kwargs{_from_loading::Bool})",
      "    @ Pkg.API ~/.julia/juliaup/julia-1.10.0+0.aarch64.apple.darwin14/share/julia/stdlib/v1.10/Pkg/src/API.jl:159",
      "  [4] precompile",
      "    @ Pkg.API ~/.julia/juliaup/julia-1.10.0+0.aarch64.apple.darwin14/share/julia/stdlib/v1.10/Pkg/src/API.jl:147 [inlined]",
      "  [5] #precompile#114",
      "    @ Pkg.API ~/.julia/juliaup/julia-1.10.0+0.aarch64.apple.darwin14/share/julia/stdlib/v1.10/Pkg/src/API.jl:146 [inlined]",
      "  [6] #invokelatest#2",
      "    @ Base ./essentials.jl:889 [inlined]",
      "  [7] invokelatest",
      "    @ Base ./essentials.jl:884 [inlined]",
      "  [8] _require(pkg::Base.PkgId, env::String)",
      "    @ Base ./loading.jl:1957",
      "  [9] __require_prelocked(uuidkey::Base.PkgId, env::String)",
      "    @ Base ./loading.jl:1806",
      " [10] #invoke_in_world#3",
      "    @ Base ./essentials.jl:921 [inlined]",
      " [11] invoke_in_world",
      "    @ Base ./essentials.jl:918 [inlined]",
      " [12] _require_prelocked(uuidkey::Base.PkgId, env::String)",
      "    @ Base ./loading.jl:1797",
      " [13] macro expansion",
      "    @ Base ./loading.jl:1784 [inlined]",
      " [14] macro expansion",
      "    @ Base ./lock.jl:267 [inlined]",
      " [15] __require(into::Module, mod::Symbol)",
      "    @ Base ./loading.jl:1747",
      " [16] #invoke_in_world#3",
      "    @ Base ./essentials.jl:921 [inlined]",
      " [17] invoke_in_world",
      "    @ Base ./essentials.jl:918 [inlined]",
      " [18] require(into::Module, mod::Symbol)",
      "    @ Base ./loading.jl:1740"
     ]
    }
   ],
   "source": [
    "# run the Top Brass model with Gurobi\n",
    "using Gurobi\n",
    "\n",
    "# this time, defined the optimizer when initializing the model\n",
    "m = Model(Gurobi.Optimizer)\n",
    "\n",
    "@variable(m, 0 <= f <= 1000)           # football trophies\n",
    "@variable(m, 0 <= s <= 1500)           # soccer trophies\n",
    "@constraint(m, 4f + 2s <= 4800)        # total board feet of wood\n",
    "@constraint(m, f + s <= 1750)          # total number of plaques\n",
    "@objective(m, Max, 12f +9s)           # maximize profit\n",
    "\n",
    "@time optimize!(m)\n",
    "println(termination_status(m))\n",
    "println(\"Build \", value(f), \" football trophies.\")\n",
    "println(\"Build \", value(s), \" soccer trophies.\")\n",
    "println(\"Total profit will be \\$\", objective_value(m))"
   ]
  },
  {
   "cell_type": "code",
   "execution_count": null,
   "metadata": {},
   "outputs": [],
   "source": []
  }
 ],
 "metadata": {
  "@webio": {
   "lastCommId": null,
   "lastKernelId": null
  },
  "kernelspec": {
   "display_name": "Julia 1.10.0",
   "language": "julia",
   "name": "julia-1.10"
  },
  "language_info": {
   "file_extension": ".jl",
   "mimetype": "application/julia",
   "name": "julia",
   "version": "1.10.0"
  }
 },
 "nbformat": 4,
 "nbformat_minor": 4
}
