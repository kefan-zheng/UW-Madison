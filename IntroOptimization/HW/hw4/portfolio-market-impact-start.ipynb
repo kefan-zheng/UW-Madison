{
 "cells": [
  {
   "cell_type": "code",
   "execution_count": null,
   "metadata": {},
   "outputs": [],
   "source": [
    "using DataFrames, CSV, LinearAlgebra, NamedArrays\n",
    "\n",
    "df = CSV.read(\"folio_mean.csv\", DataFrame, header=false, delim=',')\n",
    "(n,mmm) = size(df)\n",
    "\n",
    "# Weekly numbers to annual, write as percentages (and flip returns to make more positive)\n",
    "mu = -100/7*365*Vector(df[1:n,1])\n",
    "\n",
    "df2 = CSV.read(\"folio_cov.csv\",DataFrame,header=false,delim=',')\n",
    "\n",
    "# Weekly numbers to annual, write as percentages, also reduce the risk a bit\n",
    "Q = 0.5* (100/7*365)^2 * Matrix(df2) \n",
    "\n",
    "# Read the portfolio holding and benchmarks\n",
    "\n",
    "df3 = CSV.read(\"folio_holding_benchmark.csv\", DataFrame, header=false, delim=',')\n",
    "\n",
    "h = Vector(df3[1:n,1])\n",
    "b = Vector(df3[1:n,2])\n",
    "\n",
    "# Current tracking risk \n",
    "benchmark_return = mu'b\n",
    "\n",
    "# Current holdings return \n",
    "holdings_return = mu'*h \n",
    "\n",
    "# Current tracking risk \n",
    "active_risk = sqrt((h-b)'Q*(h-b))\n",
    "\n",
    "println(\"Benchmark expected return: \", benchmark_return)\n",
    "println(\"Holdings expected return: \", holdings_return)\n",
    "println(\"Active Risk: \", active_risk)"
   ]
  }
 ],
 "metadata": {
  "language_info": {
   "name": "python"
  }
 },
 "nbformat": 4,
 "nbformat_minor": 2
}
