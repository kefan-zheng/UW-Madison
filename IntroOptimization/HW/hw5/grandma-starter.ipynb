{
 "cells": [
  {
   "cell_type": "markdown",
   "metadata": {},
   "source": [
    "# Integer Programming is Smarter than a Fourth Grader?\n",
    "\n",
    "This was my son's homework assignment when he was in 4th grade.   I tried to make him use integer programming to figure out the answer. He told me to buzz off.\n",
    "\n",
    "But since you hopefully have more respect for your professor than my son does for me, you will be *happy* to use integer programming to solve the following mind-bender:\n",
    "\n",
    "Maxine, Mabel, Mavis, Millie, and Martha were grandmothers.  Their daughters were named Carla, Carol, Cindy, Cathy, and Caren, and the daugthers were married to John, Jake, Jack, Joe, and Jason.  Each of the couples had one son.  The names of the grandsons were Tom, Tex, Tim, Tip, and Tab.\n",
    "\n",
    "Here is a list of clues:\n",
    "\n",
    "1. Maxine's Daughter was not Carla\n",
    "2. Mavis' son-in-law was not named Jack, and Catchy was married to Joe, but their son was not named Tab\n",
    "3. Tim's mother was not named either Carol or Carla, because Tim's mother was Jake's wife Cindy\n",
    "4. Mabel, Millie, and Martha did not have daughters named Carla or Carol, and Martha's son-in-law was not John because John was married to Caren, and their son was named Tom\n",
    "5. Millie was terrible with names, but she knew that her son-in-law was named either Joe or Jason, and her grandson was named either Tip or Tab.\n",
    "6. Tab did not have a grandmother named Mavis.\n",
    "\n",
    "Who was Maxine's grandson?  In fact, we can determine everyone's grandson. \n",
    "\n",
    "\n"
   ]
  },
  {
   "cell_type": "code",
   "execution_count": null,
   "metadata": {},
   "outputs": [],
   "source": [
    "G = [:Maxine, :Mabel, :Mavis, :Millie, :Martha]\n",
    "D = [:Carla, :Carol, :Cindy, :Cathy, :Caren ]\n",
    "H = [:John, :Jake, :Jack, :Joe, :Jason ]\n",
    "S = [:Tom, :Tex, :Tim, :Tip, :Tab ]\n",
    "\n"
   ]
  },
  {
   "cell_type": "code",
   "execution_count": null,
   "metadata": {},
   "outputs": [],
   "source": [
    "function printGrandmaSolution(xD, xH, xS)\n",
    "    for g in G\n",
    "        grandma = g\n",
    "        daughter = :Unknown\n",
    "        son_in_law = :Unknown\n",
    "        grandson = :Unknown \n",
    "\n",
    "        for d in D \n",
    "            if value(xD[g,d]) > 0.5\n",
    "                daughter = d \n",
    "            end\n",
    "        end\n",
    "        for h in H \n",
    "            if value(xH[g,h]) > 0.5\n",
    "                son_in_law = h \n",
    "            end\n",
    "        end\n",
    "        for s in S \n",
    "            if value(xS[g,s]) > 0.5\n",
    "                grandson = s \n",
    "            end\n",
    "        end\n",
    "        println(\"Grandma \", g, \" has daughter \", daughter, \" son-in-law \", son_in_law, \" and grandson \", grandson)\n",
    "    end\n",
    "end; "
   ]
  }
 ],
 "metadata": {
  "kernelspec": {
   "display_name": "Julia 1.10.0",
   "language": "julia",
   "name": "julia-1.10"
  },
  "language_info": {
   "file_extension": ".jl",
   "mimetype": "application/julia",
   "name": "julia",
   "version": "1.10.0"
  }
 },
 "nbformat": 4,
 "nbformat_minor": 2
}
